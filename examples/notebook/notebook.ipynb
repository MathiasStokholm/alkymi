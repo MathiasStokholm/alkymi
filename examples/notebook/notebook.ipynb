{
 "cells": [
  {
   "cell_type": "code",
   "execution_count": null,
   "metadata": {},
   "outputs": [],
   "source": [
    "import io\n",
    "import sys\n",
    "sys.path.append(\"../..\")\n",
    "import alkymi as alk\n",
    "import pandas as pd\n",
    "import matplotlib.pyplot as plt\n",
    "import urllib.request"
   ]
  },
  {
   "cell_type": "code",
   "execution_count": null,
   "metadata": {},
   "outputs": [],
   "source": [
    "base_url = \"https://raw.githubusercontent.com/CSSEGISandData/COVID-19/master/csse_covid_19_data/csse_covid_19_daily_reports_us\"\n",
    "url_arg = alk.recipes.args(name=\"url_arg\")"
   ]
  },
  {
   "cell_type": "code",
   "execution_count": null,
   "metadata": {},
   "outputs": [],
   "source": [
    "@alk.recipe(ingredients=[url_arg])\n",
    "def download_csv(url):\n",
    "    return urllib.request.urlopen(url).read()"
   ]
  },
  {
   "cell_type": "code",
   "execution_count": null,
   "metadata": {},
   "outputs": [],
   "source": [
    "@alk.recipe(ingredients=[download_csv])\n",
    "def load_csv(data):\n",
    "    return pd.read_csv(io.BytesIO(data))"
   ]
  },
  {
   "cell_type": "code",
   "execution_count": null,
   "metadata": {},
   "outputs": [],
   "source": [
    "# Decide which dataset to download\n",
    "year = 2020\n",
    "month = 12\n",
    "day = 26\n",
    "url_arg.set_args(f\"{base_url}/{month:02d}-{day:02d}-{year}.csv\")\n",
    "\n",
    "# Run pipeline to fetch and load data\n",
    "df = load_csv.brew()\n",
    "\n",
    "# Plot the final results\n",
    "num_to_show = 5\n",
    "df.sort_values(\"Active\", ascending=False) \\\n",
    "    .head(num_to_show) \\\n",
    "    .set_index(\"Province_State\")[\"Active\"] \\\n",
    "    .plot.bar()\n",
    "plt.title(f\"Top {num_to_show} states by active case count\")\n",
    "plt.show()"
   ]
  }
 ],
 "metadata": {
  "kernelspec": {
   "display_name": "Python 3",
   "language": "python",
   "name": "python3"
  },
  "language_info": {
   "codemirror_mode": {
    "name": "ipython",
    "version": 3
   },
   "file_extension": ".py",
   "mimetype": "text/x-python",
   "name": "python",
   "nbconvert_exporter": "python",
   "pygments_lexer": "ipython3",
   "version": "3.8.5"
  }
 },
 "nbformat": 4,
 "nbformat_minor": 4
}
